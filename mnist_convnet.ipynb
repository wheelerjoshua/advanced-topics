{
  "cells": [
    {
      "cell_type": "markdown",
      "metadata": {
        "id": "AkbUoFEBm-KB"
      },
      "source": [
        "# Simple MNIST convnet\n",
        "\n",
        "**Author:** [fchollet](https://twitter.com/fchollet)<br>\n",
        "**Date created:** 2015/06/19<br>\n",
        "**Last modified:** 2020/04/21<br>\n",
        "**Description:** A simple convnet that achieves ~99% test accuracy on MNIST."
      ]
    },
    {
      "cell_type": "markdown",
      "metadata": {
        "id": "_6SF2dFRm-KD"
      },
      "source": [
        "## Setup"
      ]
    },
    {
      "cell_type": "code",
      "execution_count": 1,
      "metadata": {
        "id": "Fi9zFD4Ym-KE"
      },
      "outputs": [],
      "source": [
        "import numpy as np\n",
        "from tensorflow import keras\n",
        "from tensorflow.keras import layers"
      ]
    },
    {
      "cell_type": "markdown",
      "metadata": {
        "id": "P0w7GcUgm-KF"
      },
      "source": [
        "## Prepare the data"
      ]
    },
    {
      "cell_type": "code",
      "execution_count": 2,
      "metadata": {
        "id": "3VinVKVhm-KF",
        "outputId": "bce552be-f5b0-4f2b-8b69-0a5b5f9f2637",
        "colab": {
          "base_uri": "https://localhost:8080/"
        }
      },
      "outputs": [
        {
          "output_type": "stream",
          "name": "stdout",
          "text": [
            "Downloading data from https://storage.googleapis.com/tensorflow/tf-keras-datasets/mnist.npz\n",
            "11493376/11490434 [==============================] - 0s 0us/step\n",
            "11501568/11490434 [==============================] - 0s 0us/step\n",
            "x_train shape: (60000, 28, 28, 1)\n",
            "60000 train samples\n",
            "10000 test samples\n"
          ]
        }
      ],
      "source": [
        "# Model / data parameters\n",
        "num_classes = 10\n",
        "\n",
        "# 28 pixels x 28 pixels\n",
        "# 1 is greyscale from 0 to 255\n",
        "# RGB would be 28, 28, 3\n",
        "input_shape = (28, 28, 1)\n",
        "\n",
        "# the data, split between train and test sets\n",
        "(x_train, y_train), (x_test, y_test) = keras.datasets.mnist.load_data()\n",
        "\n",
        "# Scale images to the [0, 1] range\n",
        "x_train = x_train.astype(\"float32\") / 255\n",
        "x_test = x_test.astype(\"float32\") / 255\n",
        "# Make sure images have shape (28, 28, 1)\n",
        "x_train = np.expand_dims(x_train, -1)\n",
        "x_test = np.expand_dims(x_test, -1)\n",
        "print(\"x_train shape:\", x_train.shape)\n",
        "print(x_train.shape[0], \"train samples\")\n",
        "print(x_test.shape[0], \"test samples\")\n",
        "\n",
        "\n",
        "# convert class vectors to binary class matrices\n",
        "y_train = keras.utils.to_categorical(y_train, num_classes)\n",
        "y_test = keras.utils.to_categorical(y_test, num_classes)"
      ]
    },
    {
      "cell_type": "markdown",
      "metadata": {
        "id": "MRXtL_w1m-KF"
      },
      "source": [
        "## Build the model"
      ]
    },
    {
      "cell_type": "code",
      "execution_count": 3,
      "metadata": {
        "id": "j3CFpZNKm-KF",
        "outputId": "93361f3b-4fc2-4e43-c693-61921f1e98f3",
        "colab": {
          "base_uri": "https://localhost:8080/"
        }
      },
      "outputs": [
        {
          "output_type": "stream",
          "name": "stdout",
          "text": [
            "Model: \"sequential\"\n",
            "_________________________________________________________________\n",
            " Layer (type)                Output Shape              Param #   \n",
            "=================================================================\n",
            " conv2d (Conv2D)             (None, 26, 26, 32)        320       \n",
            "                                                                 \n",
            " max_pooling2d (MaxPooling2D  (None, 13, 13, 32)       0         \n",
            " )                                                               \n",
            "                                                                 \n",
            " conv2d_1 (Conv2D)           (None, 11, 11, 64)        18496     \n",
            "                                                                 \n",
            " max_pooling2d_1 (MaxPooling  (None, 5, 5, 64)         0         \n",
            " 2D)                                                             \n",
            "                                                                 \n",
            " flatten (Flatten)           (None, 1600)              0         \n",
            "                                                                 \n",
            " dropout (Dropout)           (None, 1600)              0         \n",
            "                                                                 \n",
            " dense (Dense)               (None, 10)                16010     \n",
            "                                                                 \n",
            "=================================================================\n",
            "Total params: 34,826\n",
            "Trainable params: 34,826\n",
            "Non-trainable params: 0\n",
            "_________________________________________________________________\n"
          ]
        }
      ],
      "source": [
        "model = keras.Sequential(\n",
        "    [\n",
        "        # ALWAYS specify shape of input\n",
        "        keras.Input(shape=input_shape),\n",
        "        # first layer is 2D convolusion (Neurons, size, what shape of function to activate 0 or 1)\n",
        "        # explodes out lots of features\n",
        "        layers.Conv2D(32, kernel_size=(3, 3), activation=\"relu\"),\n",
        "        # Pooling layer immediately after convolusion. Reduces spatial size and representations the layer exploded out.\n",
        "        layers.MaxPooling2D(pool_size=(2, 2)),\n",
        "        # second layer\n",
        "        layers.Conv2D(64, kernel_size=(3, 3), activation=\"relu\"),\n",
        "        layers.MaxPooling2D(pool_size=(2, 2)),\n",
        "        layers.Flatten(),\n",
        "        # Dropout layer helps prevent overfitting\n",
        "        layers.Dropout(0.5),\n",
        "        layers.Dense(num_classes, activation=\"softmax\"),\n",
        "    ]\n",
        ")\n",
        "\n",
        "model.summary()"
      ]
    },
    {
      "cell_type": "markdown",
      "metadata": {
        "id": "qN-fk0V0m-KG"
      },
      "source": [
        "## Train the model"
      ]
    },
    {
      "cell_type": "code",
      "execution_count": 4,
      "metadata": {
        "id": "JYmrHe_km-KG",
        "outputId": "81ddefaa-c742-4416-c3b0-1327ec6d0dfb",
        "colab": {
          "base_uri": "https://localhost:8080/"
        }
      },
      "outputs": [
        {
          "output_type": "stream",
          "name": "stdout",
          "text": [
            "Epoch 1/15\n",
            "422/422 [==============================] - 39s 91ms/step - loss: 0.3650 - accuracy: 0.8863 - val_loss: 0.0850 - val_accuracy: 0.9752\n",
            "Epoch 2/15\n",
            "422/422 [==============================] - 38s 90ms/step - loss: 0.1162 - accuracy: 0.9653 - val_loss: 0.0566 - val_accuracy: 0.9837\n",
            "Epoch 3/15\n",
            "422/422 [==============================] - 38s 90ms/step - loss: 0.0846 - accuracy: 0.9746 - val_loss: 0.0479 - val_accuracy: 0.9865\n",
            "Epoch 4/15\n",
            "422/422 [==============================] - 38s 90ms/step - loss: 0.0711 - accuracy: 0.9780 - val_loss: 0.0435 - val_accuracy: 0.9890\n",
            "Epoch 5/15\n",
            "422/422 [==============================] - 38s 90ms/step - loss: 0.0619 - accuracy: 0.9805 - val_loss: 0.0395 - val_accuracy: 0.9898\n",
            "Epoch 6/15\n",
            "422/422 [==============================] - 38s 90ms/step - loss: 0.0573 - accuracy: 0.9822 - val_loss: 0.0377 - val_accuracy: 0.9912\n",
            "Epoch 7/15\n",
            "422/422 [==============================] - 38s 90ms/step - loss: 0.0512 - accuracy: 0.9842 - val_loss: 0.0377 - val_accuracy: 0.9900\n",
            "Epoch 8/15\n",
            "422/422 [==============================] - 38s 90ms/step - loss: 0.0473 - accuracy: 0.9850 - val_loss: 0.0382 - val_accuracy: 0.9892\n",
            "Epoch 9/15\n",
            "422/422 [==============================] - 38s 90ms/step - loss: 0.0439 - accuracy: 0.9863 - val_loss: 0.0326 - val_accuracy: 0.9912\n",
            "Epoch 10/15\n",
            "422/422 [==============================] - 38s 90ms/step - loss: 0.0418 - accuracy: 0.9866 - val_loss: 0.0348 - val_accuracy: 0.9908\n",
            "Epoch 11/15\n",
            "422/422 [==============================] - 38s 90ms/step - loss: 0.0396 - accuracy: 0.9876 - val_loss: 0.0322 - val_accuracy: 0.9910\n",
            "Epoch 12/15\n",
            "422/422 [==============================] - 38s 90ms/step - loss: 0.0371 - accuracy: 0.9878 - val_loss: 0.0287 - val_accuracy: 0.9925\n",
            "Epoch 13/15\n",
            "422/422 [==============================] - 38s 90ms/step - loss: 0.0362 - accuracy: 0.9883 - val_loss: 0.0303 - val_accuracy: 0.9912\n",
            "Epoch 14/15\n",
            "422/422 [==============================] - 38s 90ms/step - loss: 0.0337 - accuracy: 0.9888 - val_loss: 0.0309 - val_accuracy: 0.9927\n",
            "Epoch 15/15\n",
            "422/422 [==============================] - 38s 90ms/step - loss: 0.0321 - accuracy: 0.9893 - val_loss: 0.0309 - val_accuracy: 0.9918\n"
          ]
        },
        {
          "output_type": "execute_result",
          "data": {
            "text/plain": [
              "<keras.callbacks.History at 0x7f847d301d10>"
            ]
          },
          "metadata": {},
          "execution_count": 4
        }
      ],
      "source": [
        "batch_size = 128\n",
        "epochs = 15\n",
        "\n",
        "model.compile(loss=\"categorical_crossentropy\", optimizer=\"adam\", metrics=[\"accuracy\"])\n",
        "\n",
        "model.fit(x_train, y_train, batch_size=batch_size, epochs=epochs, validation_split=0.1)"
      ]
    },
    {
      "cell_type": "markdown",
      "metadata": {
        "id": "C2XVpVGim-KG"
      },
      "source": [
        "## Evaluate the trained model"
      ]
    },
    {
      "cell_type": "code",
      "execution_count": 5,
      "metadata": {
        "id": "fqxXB033m-KG",
        "outputId": "7f7a2f88-7004-4c2f-d7f7-63b5313fe812",
        "colab": {
          "base_uri": "https://localhost:8080/"
        }
      },
      "outputs": [
        {
          "output_type": "stream",
          "name": "stdout",
          "text": [
            "Test loss: 0.02289321832358837\n",
            "Test accuracy: 0.9923999905586243\n"
          ]
        }
      ],
      "source": [
        "score = model.evaluate(x_test, y_test, verbose=0)\n",
        "print(\"Test loss:\", score[0])\n",
        "print(\"Test accuracy:\", score[1])"
      ]
    },
    {
      "cell_type": "code",
      "source": [
        ""
      ],
      "metadata": {
        "id": "H9tZj612uzer"
      },
      "execution_count": null,
      "outputs": []
    }
  ],
  "metadata": {
    "colab": {
      "collapsed_sections": [],
      "name": "mnist_convnet",
      "provenance": [],
      "toc_visible": true
    },
    "kernelspec": {
      "display_name": "Python 3",
      "language": "python",
      "name": "python3"
    },
    "language_info": {
      "codemirror_mode": {
        "name": "ipython",
        "version": 3
      },
      "file_extension": ".py",
      "mimetype": "text/x-python",
      "name": "python",
      "nbconvert_exporter": "python",
      "pygments_lexer": "ipython3",
      "version": "3.7.0"
    }
  },
  "nbformat": 4,
  "nbformat_minor": 0
}